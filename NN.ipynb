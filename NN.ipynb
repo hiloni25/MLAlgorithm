{
 "cells": [
  {
   "cell_type": "code",
   "execution_count": 37,
   "metadata": {},
   "outputs": [],
   "source": [
    "import pandas as pd\n",
    "import numpy as np"
   ]
  },
  {
   "cell_type": "code",
   "execution_count": 38,
   "metadata": {},
   "outputs": [],
   "source": [
    "#Get the data iris from csv file and save it as dataframe\n",
    "#csv_data = pd.read_csv('//Users/Hilony/Desktop/mlhw01/iris1.csv')\n",
    "csv_data = pd.read_csv('iris1.csv')"
   ]
  },
  {
   "cell_type": "code",
   "execution_count": 39,
   "metadata": {},
   "outputs": [],
   "source": [
    "#Randomise the iris dataset\n",
    "dataF = pd.DataFrame.sample(csv_data,frac=1)"
   ]
  },
  {
   "cell_type": "code",
   "execution_count": 40,
   "metadata": {},
   "outputs": [],
   "source": [
    "Species = dataF['Species'].values[:]"
   ]
  },
  {
   "cell_type": "code",
   "execution_count": 41,
   "metadata": {},
   "outputs": [
    {
     "name": "stdout",
     "output_type": "stream",
     "text": [
      "     Sapel_length  Sapel_width  Petal_length  Petal_width  Species  Setosa  \\\n",
      "33            5.5          4.2           1.4          0.2        0       1   \n",
      "149           5.9          3.0           5.1          1.8        1       0   \n",
      "24            4.8          3.4           1.9          0.2        0       1   \n",
      "32            5.2          4.1           1.5          0.1        0       1   \n",
      "3             4.6          3.1           1.5          0.2        0       1   \n",
      "16            5.4          3.9           1.3          0.4        0       1   \n",
      "39            5.1          3.4           1.5          0.2        0       1   \n",
      "131           7.9          3.8           6.4          2.0        1       0   \n",
      "111           6.4          2.7           5.3          1.9        1       0   \n",
      "88            5.6          3.0           4.1          1.3        2       0   \n",
      "113           5.7          2.5           5.0          2.0        1       0   \n",
      "145           6.7          3.0           5.2          2.3        1       0   \n",
      "114           5.8          2.8           5.1          2.4        1       0   \n",
      "46            5.1          3.8           1.6          0.2        0       1   \n",
      "68            6.2          2.2           4.5          1.5        2       0   \n",
      "128           6.4          2.8           5.6          2.1        1       0   \n",
      "137           6.4          3.1           5.5          1.8        1       0   \n",
      "5             5.4          3.9           1.7          0.4        0       1   \n",
      "107           7.3          2.9           6.3          1.8        1       0   \n",
      "66            5.6          3.0           4.5          1.5        2       0   \n",
      "123           6.3          2.7           4.9          1.8        1       0   \n",
      "51            6.4          3.2           4.5          1.5        2       0   \n",
      "99            5.7          2.8           4.1          1.3        2       0   \n",
      "63            6.1          2.9           4.7          1.4        2       0   \n",
      "37            4.9          3.1           1.5          0.1        0       1   \n",
      "83            6.0          2.7           5.1          1.6        2       0   \n",
      "138           6.0          3.0           4.8          1.8        1       0   \n",
      "98            5.1          2.5           3.0          1.1        2       0   \n",
      "121           5.6          2.8           4.9          2.0        1       0   \n",
      "112           6.8          3.0           5.5          2.1        1       0   \n",
      "..            ...          ...           ...          ...      ...     ...   \n",
      "19            5.1          3.8           1.5          0.3        0       1   \n",
      "119           6.0          2.2           5.0          1.5        1       0   \n",
      "116           6.5          3.0           5.5          1.8        1       0   \n",
      "60            5.0          2.0           3.5          1.0        2       0   \n",
      "110           6.5          3.2           5.1          2.0        1       0   \n",
      "147           6.5          3.0           5.2          2.0        1       0   \n",
      "58            6.6          2.9           4.6          1.3        2       0   \n",
      "57            4.9          2.4           3.3          1.0        2       0   \n",
      "133           6.3          2.8           5.1          1.5        1       0   \n",
      "1             4.9          3.0           1.4          0.2        0       1   \n",
      "126           6.2          2.8           4.8          1.8        1       0   \n",
      "36            5.5          3.5           1.3          0.2        0       1   \n",
      "9             4.9          3.1           1.5          0.1        0       1   \n",
      "85            6.0          3.4           4.5          1.6        2       0   \n",
      "59            5.2          2.7           3.9          1.4        2       0   \n",
      "10            5.4          3.7           1.5          0.2        0       1   \n",
      "25            5.0          3.0           1.6          0.2        0       1   \n",
      "6             4.6          3.4           1.4          0.3        0       1   \n",
      "102           7.1          3.0           5.9          2.1        1       0   \n",
      "18            5.7          3.8           1.7          0.3        0       1   \n",
      "40            5.0          3.5           1.3          0.3        0       1   \n",
      "78            6.0          2.9           4.5          1.5        2       0   \n",
      "56            6.3          3.3           4.7          1.6        2       0   \n",
      "61            5.9          3.0           4.2          1.5        2       0   \n",
      "139           6.9          3.1           5.4          2.1        1       0   \n",
      "70            5.9          3.2           4.8          1.8        2       0   \n",
      "14            5.8          4.0           1.2          0.2        0       1   \n",
      "130           7.4          2.8           6.1          1.9        1       0   \n",
      "17            5.1          3.5           1.4          0.3        0       1   \n",
      "62            6.0          2.2           4.0          1.0        2       0   \n",
      "\n",
      "     Virginica  Versicolor  \n",
      "33           0           0  \n",
      "149          1           0  \n",
      "24           0           0  \n",
      "32           0           0  \n",
      "3            0           0  \n",
      "16           0           0  \n",
      "39           0           0  \n",
      "131          1           0  \n",
      "111          1           0  \n",
      "88           0           1  \n",
      "113          1           0  \n",
      "145          1           0  \n",
      "114          1           0  \n",
      "46           0           0  \n",
      "68           0           1  \n",
      "128          1           0  \n",
      "137          1           0  \n",
      "5            0           0  \n",
      "107          1           0  \n",
      "66           0           1  \n",
      "123          1           0  \n",
      "51           0           1  \n",
      "99           0           1  \n",
      "63           0           1  \n",
      "37           0           0  \n",
      "83           0           1  \n",
      "138          1           0  \n",
      "98           0           1  \n",
      "121          1           0  \n",
      "112          1           0  \n",
      "..         ...         ...  \n",
      "19           0           0  \n",
      "119          1           0  \n",
      "116          1           0  \n",
      "60           0           1  \n",
      "110          1           0  \n",
      "147          1           0  \n",
      "58           0           1  \n",
      "57           0           1  \n",
      "133          1           0  \n",
      "1            0           0  \n",
      "126          1           0  \n",
      "36           0           0  \n",
      "9            0           0  \n",
      "85           0           1  \n",
      "59           0           1  \n",
      "10           0           0  \n",
      "25           0           0  \n",
      "6            0           0  \n",
      "102          1           0  \n",
      "18           0           0  \n",
      "40           0           0  \n",
      "78           0           1  \n",
      "56           0           1  \n",
      "61           0           1  \n",
      "139          1           0  \n",
      "70           0           1  \n",
      "14           0           0  \n",
      "130          1           0  \n",
      "17           0           0  \n",
      "62           0           1  \n",
      "\n",
      "[150 rows x 8 columns]\n"
     ]
    }
   ],
   "source": [
    "def mapping(x):\n",
    "    if(x == 'Iris-virginica'):\n",
    "        return 1\n",
    "    elif(x == 'Iris-setosa'):\n",
    "        return 0\n",
    "    elif (x == 'Iris-versicolor'):\n",
    "        return 2\n",
    "\n",
    "\n",
    "Species1 = list(map(mapping, Species)) \n",
    "dataF['Species'] = Species1\n",
    "\n",
    "#hot encoding-\n",
    "def mapsetosa(x):\n",
    "    if(x == 'Iris-setosa'):\n",
    "        return 1\n",
    "    else:\n",
    "        return 0\n",
    "    \n",
    "    \n",
    "def mapvirginica(x):\n",
    "    if(x == 'Iris-virginica'):\n",
    "        return 1\n",
    "    else:\n",
    "        return 0\n",
    "    \n",
    "def mapversicolor(x):\n",
    "    if(x == 'Iris-versicolor'):\n",
    "        return 1\n",
    "    else:\n",
    "        return 0\n",
    "\n",
    "\n",
    "Setosa = list(map(mapsetosa, Species))\n",
    "dataF['Setosa'] = Setosa\n",
    "\n",
    "Virginica = list(map(mapvirginica, Species))\n",
    "dataF['Virginica'] = Virginica\n",
    "\n",
    "Versicolor = list(map(mapversicolor, Species))\n",
    "dataF['Versicolor'] = Versicolor\n",
    "\n",
    "print(dataF)"
   ]
  },
  {
   "cell_type": "code",
   "execution_count": 42,
   "metadata": {},
   "outputs": [],
   "source": [
    "ndataF = dataF"
   ]
  },
  {
   "cell_type": "code",
   "execution_count": 43,
   "metadata": {},
   "outputs": [],
   "source": [
    "sampleLength = len(ndataF)*0.7 #Taking 70% of the data as training and 30% as testing\n",
    "trainData = ndataF[0:int(sampleLength)]\n",
    "testData = ndataF[int(sampleLength):]\n",
    "\n",
    "trainTarget = trainData['Species']\n",
    "testTarget = testData['Species']\n",
    "\n",
    "trainData = trainData.drop(columns = 'Species', axis = 1)\n",
    "testData = testData.drop(columns = 'Species', axis = 1)"
   ]
  },
  {
   "cell_type": "code",
   "execution_count": 44,
   "metadata": {},
   "outputs": [],
   "source": [
    "def sig(x):\n",
    "    sigmoid = 1/(1+np.exp(-x))\n",
    "    return sigmoid"
   ]
  },
  {
   "cell_type": "code",
   "execution_count": 26,
   "metadata": {},
   "outputs": [],
   "source": [
    "def sigdifferentiate(x):\n",
    "    sigdiff = sig(x) * (1-sig(x))\n",
    "    return sigdiff"
   ]
  },
  {
   "cell_type": "code",
   "execution_count": 27,
   "metadata": {},
   "outputs": [],
   "source": [
    "def forward(X, W1, W2):\n",
    "    #forward propagation through our network\n",
    "    z = X.dot(W1) # dot product of X (input) and first set of 3x2 weights\n",
    "    z2 = sig(z) # activation function\n",
    "    z3 = z2.dot(W2) # dot product of hidden layer (z2) and second set of 3x1 weights\n",
    "    o = sig(z3) # final activation function\n",
    "    o = o.rename(columns={0:'Setosa', 1:'Virginica', 2:'Versicolor'})\n",
    "    \n",
    "    return z,z2,z3,o"
   ]
  },
  {
   "cell_type": "code",
   "execution_count": 28,
   "metadata": {},
   "outputs": [],
   "source": [
    "def backward(X,y,z,z2,z3,o,W1,W2):\n",
    "    # backward propgate through the network\n",
    "    #y = X['Setosa','Virginica', 'Versicolor']\n",
    "    \n",
    "    o_error = o.subtract(y) # error in output = o-y\n",
    "    \n",
    "    \n",
    "    o_delta = o_error*sigdifferentiate(o) # applying derivative of sigmoid to error\n",
    "\n",
    "    z2_error = o_delta.dot(W2.T) # z2 error: how much our hidden layer weights contributed to output error\n",
    "    z2_delta = z2_error*sigdifferentiate(z2) # applying derivative of sigmoid to z2 error\n",
    "\n",
    "    \n",
    "    W1b = (X.T).dot(z2_delta) # adjusting first set (input --> hidden) weights\n",
    "    W2b = (z2.T).dot(o_delta) # adjusting second set (hidden --> output) weights\n",
    "    \n",
    "    return W1b, W2b"
   ]
  },
  {
   "cell_type": "code",
   "execution_count": 29,
   "metadata": {},
   "outputs": [],
   "source": [
    "inputSize = 4 #Sapel-length,width, Petal length,width\n",
    "outputSize = 3 #Sentosa, Versicolor, Versicolor\n",
    "hiddenSize = 7 # Randonly selected\n",
    "\n",
    "W1 = np.random.randn(inputSize, hiddenSize) #4x5 \n",
    "W2 = np.random.randn(hiddenSize, outputSize) #5x3\n",
    "learningRate = 0.01\n",
    "lossArr = []\n",
    "\n",
    "for i in range(0,3000):\n",
    "    z,z2,z3,o = forward(trainData[['Sapel_length', 'Sapel_width','Petal_length','Petal_width']], W1, W2)\n",
    "    y = trainData[['Setosa','Virginica', 'Versicolor']]\n",
    "    loss = np.sum((-y* np.log(o)).sum(axis=1)/len(trainData)) \n",
    "    W1b, W2b = backward(trainData[['Sapel_length', 'Sapel_width','Petal_length','Petal_width']],y,z,z2,z3,o,W1,W2)\n",
    "    W1 -= learningRate*W1b\n",
    "    W2 -= learningRate*W2b\n",
    "    lossArr.append(loss)\n",
    "    \n",
    "#print(pd.DataFrame(lossArr))"
   ]
  },
  {
   "cell_type": "code",
   "execution_count": 30,
   "metadata": {},
   "outputs": [],
   "source": [
    "z,z2,z3,o = forward(testData[['Sapel_length', 'Sapel_width','Petal_length','Petal_width']], W1, W2)\n",
    "o['Maximum'] = o[['Setosa','Virginica','Versicolor']].idxmax(axis=1)\n",
    "nTestData = ndataF[int(sampleLength):]\n",
    "def mapping1(x):\n",
    "    if(x == 1):\n",
    "        return 'Virginica'\n",
    "    elif(x == 0):\n",
    "        return 'Setosa'\n",
    "    elif (x == 2):\n",
    "        return 'Versicolor'\n",
    "\n",
    "\n",
    "out = nTestData['Species'] \n",
    "o['output'] = list(map(mapping1, out))\n",
    "\n",
    "\n"
   ]
  },
  {
   "cell_type": "code",
   "execution_count": 31,
   "metadata": {},
   "outputs": [],
   "source": [
    "import matplotlib.pyplot as plt"
   ]
  },
  {
   "cell_type": "code",
   "execution_count": 32,
   "metadata": {},
   "outputs": [
    {
     "data": {
      "image/png": "[encoded data removed]",
      "text/plain": [
       "<Figure size 432x288 with 1 Axes>"
      ]
     },
     "metadata": {
      "needs_background": "light"
     },
     "output_type": "display_data"
    }
   ],
   "source": [
    "y = np.sort(lossArr)\n",
    "r = y[::-1]\n",
    "loop = []\n",
    "for i in range(0, len(y)):\n",
    "    loop.append(i)\n",
    "plt.plot(loop,r)\n",
    "\n",
    "\n",
    "plt.xlabel('iterations')\n",
    "plt.ylabel('cost')\n",
    "plt.title('Cost vs iterations graph')\n",
    "\n",
    "plt.xlim(0,len(loop))\n",
    "plt.show()"
   ]
  },
  {
   "cell_type": "code",
   "execution_count": 33,
   "metadata": {},
   "outputs": [],
   "source": [
    "from sklearn.metrics import accuracy_score"
   ]
  },
  {
   "cell_type": "code",
   "execution_count": 34,
   "metadata": {},
   "outputs": [
    {
     "name": "stdout",
     "output_type": "stream",
     "text": [
      "Sigmoid Accuracy:  93.33333333333333 %\n"
     ]
    }
   ],
   "source": [
    "score_sigmoid = accuracy_score(o['Maximum'],o['output'])*100\n",
    "print(\"Sigmoid Accuracy: \", score_sigmoid, \"%\")"
   ]
  },
  {
   "cell_type": "code",
   "execution_count": 45,
   "metadata": {},
   "outputs": [],
   "source": [
    "import warnings\n",
    "warnings.filterwarnings('ignore')"
   ]
  },
  {
   "cell_type": "code",
   "execution_count": 46,
   "metadata": {},
   "outputs": [],
   "source": [
    "def tan(x):\n",
    "    t = (2*sig(2*x))-1\n",
    "    return t"
   ]
  },
  {
   "cell_type": "code",
   "execution_count": 47,
   "metadata": {},
   "outputs": [],
   "source": [
    "def tandifferentiate(x):\n",
    "    tandiff = 1-tan(x)**2\n",
    "    return tandiff"
   ]
  },
  {
   "cell_type": "code",
   "execution_count": 48,
   "metadata": {},
   "outputs": [],
   "source": [
    "def forward_tan(X, W1, W2):\n",
    "    #forward propagation through our network\n",
    "    z = X.dot(W1) # dot product of X (input) and first set of 3x2 weights\n",
    "    z2 = tan(z) # activation function\n",
    "    z3 = z2.dot(W2) # dot product of hidden layer (z2) and second set of 3x1 weights\n",
    "    o = tan(z3) # final activation function\n",
    "    o = o.rename(columns={0:'Setosa', 1:'Virginica', 2:'Versicolor'})\n",
    "    \n",
    "    return z,z2,z3,o"
   ]
  },
  {
   "cell_type": "code",
   "execution_count": 49,
   "metadata": {},
   "outputs": [],
   "source": [
    "def backward_tan(X,y,z,z2,z3,o,W1,W2):\n",
    "    # backward propgate through the network\n",
    "    #y = X['Setosa','Virginica', 'Versicolor']\n",
    "    \n",
    "    o_error = o.subtract(y) # error in output = o-y\n",
    "    \n",
    "    \n",
    "    o_delta = o_error*tandifferentiate(o) # applying derivative of sigmoid to error\n",
    "\n",
    "    z2_error = o_delta.dot(W2.T) # z2 error: how much our hidden layer weights contributed to output error\n",
    "    z2_delta = z2_error*tandifferentiate(z2) # applying derivative of sigmoid to z2 error\n",
    "\n",
    "    \n",
    "    W1b = (X.T).dot(z2_delta) # adjusting first set (input --> hidden) weights\n",
    "    W2b = (z2.T).dot(o_delta) # adjusting second set (hidden --> output) weights\n",
    "    \n",
    "    return W1b, W2b"
   ]
  },
  {
   "cell_type": "code",
   "execution_count": 50,
   "metadata": {},
   "outputs": [],
   "source": [
    "inputSize = 4 #Sapel-length,width, Petal length,width\n",
    "outputSize = 3 #Sentosa, Versicolor, Versicolor\n",
    "hiddenSize = 7 # Randonly selected\n",
    "\n",
    "W1 = np.random.randn(inputSize, hiddenSize) #4x5 \n",
    "W2 = np.random.randn(hiddenSize, outputSize) #5x3\n",
    "learningRate = 0.01\n",
    "lossArr = []\n",
    "\n",
    "for i in range(0,3000):\n",
    "    z,z2,z3,o = forward_tan(trainData[['Sapel_length', 'Sapel_width','Petal_length','Petal_width']], W1, W2)\n",
    "    #print(o)\n",
    "    y = trainData[['Setosa','Virginica', 'Versicolor']]\n",
    "    loss = np.sum((-y* np.log(o)).sum(axis=1)/len(trainData)) \n",
    "    W1b, W2b = backward_tan(trainData[['Sapel_length', 'Sapel_width','Petal_length','Petal_width']],y,z,z2,z3,o,W1,W2)\n",
    "    W1 -= learningRate*W1b\n",
    "    W2 -= learningRate*W2b\n",
    "    lossArr.append(loss)\n",
    "    \n",
    "#print(pd.DataFrame(lossArr))"
   ]
  },
  {
   "cell_type": "code",
   "execution_count": 51,
   "metadata": {},
   "outputs": [
    {
     "name": "stdout",
     "output_type": "stream",
     "text": [
      "       Setosa  Virginica  Versicolor     Maximum      output\n",
      "13   0.932553   0.187008    0.041564      Setosa      Setosa\n",
      "109 -0.044722   0.852551   -0.046473   Virginica   Virginica\n",
      "34   0.932274   0.201881    0.095656      Setosa      Setosa\n",
      "42   0.932658   0.180839    0.019301      Setosa      Setosa\n",
      "81   0.004621   0.365723    0.917804  Versicolor  Versicolor\n",
      "82   0.203871   0.350545    0.874173  Versicolor  Versicolor\n",
      "26   0.932575   0.181245    0.019158      Setosa      Setosa\n",
      "143 -0.049040   0.854104   -0.063363   Virginica   Virginica\n",
      "22   0.932866   0.176480    0.006281      Setosa      Setosa\n",
      "92   0.012552   0.372737    0.909747  Versicolor  Versicolor\n",
      "125 -0.038897   0.859975    0.025871   Virginica   Virginica\n",
      "21   0.932762   0.177341    0.007664      Setosa      Setosa\n",
      "97   0.066999   0.383930    0.892168  Versicolor  Versicolor\n",
      "55  -0.018566   0.851901    0.047333   Virginica  Versicolor\n",
      "12   0.932220   0.203229    0.099691      Setosa      Setosa\n",
      "19   0.932846   0.177027    0.008040      Setosa      Setosa\n",
      "119 -0.044376   0.863981    0.058206   Virginica   Virginica\n",
      "116 -0.040703   0.856129   -0.015402   Virginica   Virginica\n",
      "60  -0.030602   0.377484    0.918245  Versicolor  Versicolor\n",
      "110  0.019999   0.850474   -0.084076   Virginica   Virginica\n",
      "147 -0.040905   0.854255   -0.046369   Virginica   Virginica\n",
      "58  -0.022708   0.370410    0.919720  Versicolor  Versicolor\n",
      "57   0.550911   0.331604    0.729573  Versicolor  Versicolor\n",
      "133 -0.034446   0.859065    0.044082   Virginica   Virginica\n",
      "1    0.932193   0.201477    0.091559      Setosa      Setosa\n",
      "126 -0.035465   0.855300   -0.030047   Virginica   Virginica\n",
      "36   0.932522   0.194059    0.069149      Setosa      Setosa\n",
      "9    0.932274   0.201881    0.095656      Setosa      Setosa\n",
      "85   0.893925   0.808466   -0.871101      Setosa  Versicolor\n",
      "59   0.492209   0.836007   -0.474563   Virginica  Versicolor\n",
      "10   0.932745   0.184165    0.034140      Setosa      Setosa\n",
      "25   0.932094   0.205694    0.106123      Setosa      Setosa\n",
      "6    0.932704   0.178279    0.010204      Setosa      Setosa\n",
      "102 -0.047425   0.859317   -0.021365   Virginica   Virginica\n",
      "18   0.932717   0.184484    0.034818      Setosa      Setosa\n",
      "40   0.932724   0.180098    0.017594      Setosa      Setosa\n",
      "78   0.021388   0.851557   -0.026761   Virginica  Versicolor\n",
      "56   0.465943   0.835896   -0.441070   Virginica  Versicolor\n",
      "61   0.679998   0.828336   -0.649561   Virginica  Versicolor\n",
      "139 -0.042652   0.855247   -0.047480   Virginica   Virginica\n",
      "70   0.262919   0.842019   -0.273034   Virginica  Versicolor\n",
      "14   0.932860   0.181554    0.025862      Setosa      Setosa\n",
      "130 -0.047890   0.865082    0.051577   Virginica   Virginica\n",
      "17   0.932693   0.181667    0.023144      Setosa      Setosa\n",
      "62  -0.028929   0.377916    0.919786  Versicolor  Versicolor\n"
     ]
    }
   ],
   "source": [
    "z,z2,z3,o = forward_tan(testData[['Sapel_length', 'Sapel_width','Petal_length','Petal_width']], W1, W2)\n",
    "o['Maximum'] = o[['Setosa','Virginica','Versicolor']].idxmax(axis=1)\n",
    "nTestData = ndataF[int(sampleLength):]\n",
    "def mapping1(x):\n",
    "    if(x == 1):\n",
    "        return 'Virginica'\n",
    "    elif(x == 0):\n",
    "        return 'Setosa'\n",
    "    elif (x == 2):\n",
    "        return 'Versicolor'\n",
    "\n",
    "\n",
    "out = nTestData['Species'] \n",
    "o['output'] = list(map(mapping1, out))\n",
    "\n",
    "print(o)\n"
   ]
  },
  {
   "cell_type": "code",
   "execution_count": 52,
   "metadata": {},
   "outputs": [],
   "source": [
    "import matplotlib.pyplot as plt"
   ]
  },
  {
   "cell_type": "code",
   "execution_count": 53,
   "metadata": {},
   "outputs": [
    {
     "data": {
      "image/png": "[encoded data removed]",
      "text/plain": [
       "<Figure size 432x288 with 1 Axes>"
      ]
     },
     "metadata": {
      "needs_background": "light"
     },
     "output_type": "display_data"
    }
   ],
   "source": [
    "y = np.sort(lossArr)\n",
    "r = y[::-1]\n",
    "loop = []\n",
    "for i in range(0, len(y)):\n",
    "\n",
    "    loop.append(i)\n",
    "plt.plot(loop,r)\n",
    "\n",
    "plt.xlabel('iterations')\n",
    "plt.ylabel('cost')\n",
    "plt.title('Cost vs iterations graph')\n",
    "\n",
    "plt.xlim(0,len(loop))\n",
    "plt.show()"
   ]
  },
  {
   "cell_type": "code",
   "execution_count": 54,
   "metadata": {},
   "outputs": [],
   "source": [
    "from sklearn.metrics import accuracy_score"
   ]
  },
  {
   "cell_type": "code",
   "execution_count": 56,
   "metadata": {},
   "outputs": [
    {
     "name": "stdout",
     "output_type": "stream",
     "text": [
      "Tan Accuracy:  84.44444444444444 %\n"
     ]
    }
   ],
   "source": [
    "score_tan = accuracy_score(o['Maximum'],o['output'])*100\n",
    "print(\"Tan Accuracy: \", score_tan, \"%\")"
   ]
  },
  {
   "cell_type": "code",
   "execution_count": 70,
   "metadata": {},
   "outputs": [],
   "source": [
    "sampleLength = len(ndataF)*0.7\n",
    "trainData = ndataF[0:int(sampleLength)]\n",
    "testData = ndataF[int(sampleLength):]\n",
    "\n",
    "trainTarget = trainData['Species']\n",
    "testTarget = testData['Species']\n",
    "\n",
    "trainData = trainData.drop(columns = 'Species', axis = 1)\n",
    "testData = testData.drop(columns = 'Species', axis = 1)"
   ]
  },
  {
   "cell_type": "code",
   "execution_count": 71,
   "metadata": {},
   "outputs": [],
   "source": [
    "def normalizingData(data):\n",
    "    norm = ((data - data.min())/(data.max()-data.min()))\n",
    "    return norm\n",
    "\n",
    "ndataF = normalizingData(dataF)\n",
    "ndataF['Species'] = dataF['Species']\n"
   ]
  },
  {
   "cell_type": "code",
   "execution_count": 72,
   "metadata": {},
   "outputs": [],
   "source": [
    "def relu(x):\n",
    "\n",
    "    x[x<0] = 0\n",
    "    return x"
   ]
  },
  {
   "cell_type": "code",
   "execution_count": 73,
   "metadata": {},
   "outputs": [],
   "source": [
    "def reludifferentiate(x):\n",
    "    \n",
    "    x[x>0]=1\n",
    "    x[x<=0]=0\n",
    "    return x"
   ]
  },
  {
   "cell_type": "code",
   "execution_count": 74,
   "metadata": {},
   "outputs": [],
   "source": [
    "def softmax(x):\n",
    "    x = x - np.max(x)\n",
    "    e = np.exp(x)\n",
    "    return e/ e.sum(axis=0)"
   ]
  },
  {
   "cell_type": "code",
   "execution_count": 75,
   "metadata": {},
   "outputs": [],
   "source": [
    "def forward_relu(X, W1, W2):\n",
    "    #forward propagation through our network\n",
    "    z = X.dot(W1) # dot product of X (input) and first set of 3x2 weights\n",
    "    z2 = relu(z) # activation function\n",
    "    z3 = z2.dot(W2) # dot product of hidden layer (z2) and second set of 3x1 weights\n",
    "    #o = relu(z3) # final activation function\n",
    "    o = z3.apply(softmax,axis = 1)\n",
    "    o = o.rename(columns={0:'Setosa', 1:'Virginica', 2:'Versicolor'})\n",
    "    \n",
    "    #o1 = z3.apply(softmax,axis=1)\n",
    "    #o1 = o1.rename(columns={0:'Setosa', 1:'Virginica', 2:'Versicolor'})\n",
    "    return z,z2,z3,o"
   ]
  },
  {
   "cell_type": "code",
   "execution_count": 76,
   "metadata": {},
   "outputs": [],
   "source": [
    "def backward_relu(X,y,z,z2,z3,o,W1,W2):\n",
    "    # backward propgate through the network\n",
    "    #y = X['Setosa','Virginica', 'Versicolor']\n",
    "    \n",
    "    o_error = o.subtract(y) # error in output = o-y\n",
    "    \n",
    "    \n",
    "    o_delta = o_error*reludifferentiate(o) # applying derivative of sigmoid to error\n",
    "\n",
    "    z2_error = o_delta.dot(W2.T) # z2 error: how much our hidden layer weights contributed to output error\n",
    "    z2_delta = z2_error*reludifferentiate(z2) # applying derivative of sigmoid to z2 error\n",
    "\n",
    "    \n",
    "    W1b = (X.T).dot(z2_delta) # adjusting first set (input --> hidden) weights\n",
    "    W2b = (z2.T).dot(o_delta) # adjusting second set (hidden --> output) weights\n",
    "    \n",
    "    return W1b, W2b"
   ]
  },
  {
   "cell_type": "code",
   "execution_count": 77,
   "metadata": {},
   "outputs": [],
   "source": [
    "inputSize = 4 #Sapel-length,width, Petal length,width\n",
    "outputSize = 3 #Sentosa, Versicolor, Versicolor\n",
    "hiddenSize = 7 # Randonly selected\n",
    "\n",
    "W1 = np.random.randn(inputSize, hiddenSize) #4x5 \n",
    "W2 = np.random.randn(hiddenSize, outputSize) #5x3\n",
    "learningRate = 0.01\n",
    "lossArr = []\n",
    "\n",
    "for i in range(0,1000):\n",
    "    z,z2,z3,o = forward_relu(trainData[['Sapel_length', 'Sapel_width','Petal_length','Petal_width']], W1, W2)\n",
    "    y = trainData[['Setosa','Virginica', 'Versicolor']]\n",
    "    loss = np.sum((-y* np.log(o)).sum(axis=1)/len(trainData)) \n",
    "    W1b, W2b = backward_relu(trainData[['Sapel_length', 'Sapel_width','Petal_length','Petal_width']],y,z,z2,z3,o,W1,W2)\n",
    "    W1 -= learningRate*W1b\n",
    "    W2 -= learningRate*W2b\n",
    "    lossArr.append(loss)\n",
    "    \n",
    "#print(pd.DataFrame(lossArr))"
   ]
  },
  {
   "cell_type": "code",
   "execution_count": 78,
   "metadata": {},
   "outputs": [
    {
     "name": "stdout",
     "output_type": "stream",
     "text": [
      "       Setosa     Virginica    Versicolor     Maximum      output\n",
      "13   0.999999  1.469467e-18  1.463193e-06      Setosa      Setosa\n",
      "109  0.000061  4.894931e-01  5.104458e-01  Versicolor   Virginica\n",
      "34   0.999996  9.329678e-17  4.018011e-06      Setosa      Setosa\n",
      "42   1.000000  1.257192e-20  4.103856e-07      Setosa      Setosa\n",
      "81   0.011581  4.898946e-01  4.985240e-01  Versicolor  Versicolor\n",
      "82   0.005312  4.920932e-01  5.025953e-01  Versicolor  Versicolor\n",
      "26   0.999998  3.050952e-18  2.113457e-06      Setosa      Setosa\n",
      "143  0.000155  4.905293e-01  5.093157e-01  Versicolor   Virginica\n",
      "22   1.000000  8.897774e-26  3.975078e-09      Setosa      Setosa\n",
      "92   0.005350  4.920826e-01  5.025676e-01  Versicolor  Versicolor\n",
      "125  0.000194  4.907721e-01  5.090337e-01  Versicolor   Virginica\n",
      "21   1.000000  1.146254e-22  5.457170e-08      Setosa      Setosa\n",
      "97   0.002416  4.926085e-01  5.049756e-01  Versicolor  Versicolor\n",
      "55   0.003616  4.913681e-01  5.050160e-01  Versicolor  Versicolor\n",
      "12   0.999990  1.576013e-15  1.038709e-05      Setosa      Setosa\n",
      "19   1.000000  1.589821e-25  5.251323e-09      Setosa      Setosa\n",
      "119  0.001011  1.774568e-01  8.215325e-01  Versicolor   Virginica\n",
      "116  0.000517  4.917525e-01  5.077303e-01  Versicolor   Virginica\n",
      "60   0.008384  1.406610e-01  8.509550e-01  Versicolor  Versicolor\n",
      "110  0.000437  4.915969e-01  5.079656e-01  Versicolor   Virginica\n",
      "147  0.000466  4.916568e-01  5.078771e-01  Versicolor   Virginica\n",
      "58   0.001463  4.924955e-01  5.060415e-01  Versicolor  Versicolor\n",
      "57   0.023719  4.847066e-01  4.915742e-01  Versicolor  Versicolor\n",
      "133  0.001228  4.924076e-01  5.063647e-01  Versicolor   Virginica\n",
      "1    0.999959  9.893725e-14  4.132843e-05      Setosa      Setosa\n",
      "126  0.001066  4.923233e-01  5.066106e-01  Versicolor   Virginica\n",
      "36   1.000000  3.702951e-18  4.938171e-07      Setosa      Setosa\n",
      "9    0.999996  9.329678e-17  4.018011e-06      Setosa      Setosa\n",
      "85   0.045832  2.800696e-04  9.538875e-01  Versicolor  Versicolor\n",
      "59   0.007018  4.915725e-01  5.014091e-01  Versicolor  Versicolor\n",
      "10   1.000000  9.876270e-23  2.341038e-08      Setosa      Setosa\n",
      "25   0.999938  2.324797e-13  6.187642e-05      Setosa      Setosa\n",
      "6    1.000000  8.002263e-22  1.648729e-07      Setosa      Setosa\n",
      "102  0.000171  4.906361e-01  5.091929e-01  Versicolor   Virginica\n",
      "18   1.000000  1.268591e-21  5.339886e-08      Setosa      Setosa\n",
      "40   1.000000  1.346587e-20  1.972246e-07      Setosa      Setosa\n",
      "78   0.002033  4.925969e-01  5.053701e-01  Versicolor  Versicolor\n",
      "56   0.003577  7.750994e-02  9.189128e-01  Versicolor  Versicolor\n",
      "61   0.002433  4.926082e-01  5.049587e-01  Versicolor  Versicolor\n",
      "139  0.000247  4.910257e-01  5.087273e-01  Versicolor   Virginica\n",
      "70   0.002850  1.132873e-01  8.838631e-01  Versicolor  Versicolor\n",
      "14   1.000000  1.054763e-24  1.869300e-09      Setosa      Setosa\n",
      "130  0.000171  4.906362e-01  5.091927e-01  Versicolor   Virginica\n",
      "17   1.000000  4.654203e-20  2.922816e-07      Setosa      Setosa\n",
      "62   0.002531  1.514902e-01  8.459791e-01  Versicolor  Versicolor\n"
     ]
    }
   ],
   "source": [
    "z,z2,z3,o = forward_relu(testData[['Sapel_length', 'Sapel_width','Petal_length','Petal_width']], W1, W2)\n",
    "o['Maximum'] = o[['Setosa','Virginica','Versicolor']].idxmax(axis=1)\n",
    "nTestData = ndataF[int(sampleLength):]\n",
    "def mapping1(x):\n",
    "    if(x == 1):\n",
    "        return 'Virginica'\n",
    "    elif(x == 0):\n",
    "        return 'Setosa'\n",
    "    elif (x == 2):\n",
    "        return 'Versicolor'\n",
    "\n",
    "\n",
    "out = nTestData['Species'] \n",
    "o['output'] = list(map(mapping1, out))\n",
    "\n",
    "print(o)\n",
    "\n"
   ]
  },
  {
   "cell_type": "code",
   "execution_count": 79,
   "metadata": {},
   "outputs": [],
   "source": [
    "import matplotlib.pyplot as plt"
   ]
  },
  {
   "cell_type": "code",
   "execution_count": 80,
   "metadata": {},
   "outputs": [
    {
     "data": {
      "image/png": "[encoded data removed]",
      "text/plain": [
       "<Figure size 432x288 with 1 Axes>"
      ]
     },
     "metadata": {
      "needs_background": "light"
     },
     "output_type": "display_data"
    }
   ],
   "source": [
    "y = np.sort(lossArr)\n",
    "r = y[::-1]\n",
    "loop = []\n",
    "for i in range(0, len(y)):\n",
    "    loop.append(i)\n",
    "plt.plot(loop,r)\n",
    "\n",
    "plt.xlabel('iterations')\n",
    "plt.ylabel('cost')\n",
    "plt.title('Cost vs iterations graph')\n",
    "\n",
    "plt.xlim(-2,len(loop))\n",
    "plt.show()"
   ]
  },
  {
   "cell_type": "code",
   "execution_count": 81,
   "metadata": {},
   "outputs": [],
   "source": [
    "from sklearn.metrics import accuracy_score"
   ]
  },
  {
   "cell_type": "code",
   "execution_count": 82,
   "metadata": {},
   "outputs": [
    {
     "name": "stdout",
     "output_type": "stream",
     "text": [
      "Relu Accuracy:  73.33333333333333 %\n"
     ]
    }
   ],
   "source": [
    "score_sigmoid = accuracy_score(o['Maximum'],o['output'])*100\n",
    "print(\"Relu Accuracy: \", score_sigmoid, \"%\")"
   ]
  },
  {
   "cell_type": "code",
   "execution_count": null,
   "metadata": {},
   "outputs": [],
   "source": []
  },
  {
   "cell_type": "code",
   "execution_count": null,
   "metadata": {},
   "outputs": [],
   "source": []
  }
 ],
 "metadata": {
  "kernelspec": {
   "display_name": "Python 3",
   "language": "python",
   "name": "python3"
  },
  "language_info": {
   "codemirror_mode": {
    "name": "ipython",
    "version": 3
   },
   "file_extension": ".py",
   "mimetype": "text/x-python",
   "name": "python",
   "nbconvert_exporter": "python",
   "pygments_lexer": "ipython3",
   "version": "3.7.3"
  }
 },
 "nbformat": 4,
 "nbformat_minor": 2
}
