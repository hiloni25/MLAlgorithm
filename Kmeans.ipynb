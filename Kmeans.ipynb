{
 "cells": [
  {
   "cell_type": "code",
   "execution_count": 134,
   "metadata": {},
   "outputs": [],
   "source": [
    "import numpy as np\n",
    "import math "
   ]
  },
  {
   "cell_type": "code",
   "execution_count": 135,
   "metadata": {},
   "outputs": [],
   "source": [
    "def dist(point,cent):\n",
    "    return math.sqrt((point[0] - cent[0])**2 + (point[1] - cent[1])**2)"
   ]
  },
  {
   "cell_type": "code",
   "execution_count": 136,
   "metadata": {},
   "outputs": [],
   "source": [
    "X = np.array([[5.9,3.2],\n",
    "             [4.6,2.9],\n",
    "             [6.2,2.8],\n",
    "             [4.7,3.2],\n",
    "             [5.5,4.2],\n",
    "             [5.0,3.0],\n",
    "             [4.9,3.1],\n",
    "             [6.7,3.1],\n",
    "             [5.1,3.8],\n",
    "             [6.0,3.0]])\n"
   ]
  },
  {
   "cell_type": "code",
   "execution_count": 137,
   "metadata": {},
   "outputs": [],
   "source": [
    "# 3 clusters and their centers are given as follows-\n",
    "m1 = [6.2,3.2]\n",
    "m2 = [6.6,3.7]\n",
    "m3 = [6.5,3.0]"
   ]
  },
  {
   "cell_type": "code",
   "execution_count": 138,
   "metadata": {},
   "outputs": [
    {
     "name": "stdout",
     "output_type": "stream",
     "text": [
      "[6.2, 3.2] [6.6, 3.7] [6.5, 3.0]\n",
      "clusters-\n",
      "[1, 1, 3, 1, 2, 1, 1, 3, 1, 1]\n",
      "centers-\n",
      "[5.033333333333334, 3.1999999999999997] [5.5, 4.2] [6.45, 2.95]\n",
      "clusters-\n",
      "[3, 1, 3, 1, 2, 1, 1, 3, 2, 3]\n",
      "centers-\n",
      "[4.800000000000001, 3.05] [5.3, 4.0] [6.266666666666667, 3.033333333333333]\n",
      "clusters-\n",
      "[3, 1, 3, 1, 2, 1, 1, 3, 2, 3]\n",
      "centers-\n",
      "[4.800000000000001, 3.05] [5.3, 4.0] [6.266666666666667, 3.033333333333333]\n",
      "iterations 2\n"
     ]
    }
   ],
   "source": [
    "J = []\n",
    "clusterp = [0]*len(X)\n",
    "print(m1,m2,m3)\n",
    "iterations = 0\n",
    "while(True):\n",
    "    \n",
    "    cluster = []\n",
    "    for point in X:\n",
    "        d1 = dist(point,m1)\n",
    "        d2 = dist(point,m2)\n",
    "        d3 = dist(point,m3)\n",
    "        #print(\"d1\" + str(d1) + \"d2\" + str(d2) + \"d3\" + str(d3))\n",
    "        minid = min(d1,d2,d3)\n",
    "        if(d1 == minid):\n",
    "            cluster.append(1)\n",
    "        elif(d2 == minid):\n",
    "            cluster.append(2)\n",
    "        elif(d3 == minid):\n",
    "            cluster.append(3)\n",
    "    \n",
    "    print('clusters-')\n",
    "    print(cluster)\n",
    "    \n",
    "    \n",
    "    m1,m2,m3 = [0]*2, [0]*2, [0]*2\n",
    "    n1,n2,n3 = 0,0,0\n",
    "\n",
    "    for p in range(0,len(X)-1):\n",
    "        if(cluster[p] == 1):\n",
    "            m1[0] += X[p][0]\n",
    "            m1[1] += X[p][1]\n",
    "            n1 += 1\n",
    "            \n",
    "        elif(cluster[p] == 2):\n",
    "            m2[0] += X[p][0]\n",
    "            m2[1] += X[p][1]\n",
    "            n2 += 1\n",
    "            \n",
    "        elif(cluster[p] == 3):\n",
    "            m3[0] += X[p][0]\n",
    "            m3[1] += X[p][1]\n",
    "            n3 += 1\n",
    "            \n",
    "    m1[0] = m1[0]/n1\n",
    "    m2[0] = m2[0]/n2\n",
    "    m3[0] = m3[0]/n3\n",
    "    m1[1] = m1[1]/n1\n",
    "    m2[1] = m2[1]/n2\n",
    "    m3[1] = m3[1]/n3\n",
    "    print(\"centers-\")\n",
    "    print(m1,m2,m3)\n",
    "    \n",
    "    if(cluster == clusterp):\n",
    "        break\n",
    "    \n",
    "    iterations += 1\n",
    "    clusterp=cluster\n",
    "\n",
    "print(\"iterations\", str(iterations))        \n",
    "    "
   ]
  },
  {
   "cell_type": "code",
   "execution_count": 139,
   "metadata": {},
   "outputs": [],
   "source": [
    "import matplotlib.pyplot as plt"
   ]
  },
  {
   "cell_type": "code",
   "execution_count": 140,
   "metadata": {},
   "outputs": [
    {
     "data": {
      "image/png": "[encoded data removed]",
      "text/plain": [
       "<Figure size 432x288 with 1 Axes>"
      ]
     },
     "metadata": {
      "needs_background": "light"
     },
     "output_type": "display_data"
    }
   ],
   "source": [
    "#Plots after K-Means Clustering\n",
    "for p in range(0,len(X)):\n",
    "    plt.scatter(X[p][0], X[p][1], label= \"square\",color= \"black\", s=40) \n",
    "plt.scatter(m1[0], m1[1], c='red',s=60,marker=\"+\")\n",
    "plt.scatter(m2[0],m2[1],c='green',s=60,marker=\"+\")\n",
    "plt.scatter(m3[0], m3[1], c='blue',s=60,marker=\"+\")\n",
    "plt.xlabel('x - axis') \n",
    "plt.ylabel('y - axis') \n",
    "plt.title('Points on Plane!') \n",
    "plt.show()\n"
   ]
  },
  {
   "cell_type": "code",
   "execution_count": null,
   "metadata": {},
   "outputs": [],
   "source": []
  },
  {
   "cell_type": "code",
   "execution_count": null,
   "metadata": {},
   "outputs": [],
   "source": []
  }
 ],
 "metadata": {
  "kernelspec": {
   "display_name": "Python 3",
   "language": "python",
   "name": "python3"
  },
  "language_info": {
   "codemirror_mode": {
    "name": "ipython",
    "version": 3
   },
   "file_extension": ".py",
   "mimetype": "text/x-python",
   "name": "python",
   "nbconvert_exporter": "python",
   "pygments_lexer": "ipython3",
   "version": "3.7.3"
  }
 },
 "nbformat": 4,
 "nbformat_minor": 2
}
