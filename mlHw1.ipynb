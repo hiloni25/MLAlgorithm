{
 "cells": [
  {
   "cell_type": "code",
   "execution_count": 2,
   "metadata": {},
   "outputs": [],
   "source": [
    "import pandas as pd\n"
   ]
  },
  {
   "cell_type": "code",
   "execution_count": 3,
   "metadata": {},
   "outputs": [
    {
     "data": {
      "text/plain": [
       "pandas.core.frame.DataFrame"
      ]
     },
     "execution_count": 3,
     "metadata": {},
     "output_type": "execute_result"
    }
   ],
   "source": [
    "#Get the data iris from csv file and save it as dataframe\n",
    "csv_data = pd.read_csv('iris1.csv')\n",
    "#print(csv_data)\n",
    "type(csv_data)"
   ]
  },
  {
   "cell_type": "code",
   "execution_count": 16,
   "metadata": {},
   "outputs": [],
   "source": [
    "dataF = pd.DataFrame.sample(csv_data,frac=1)"
   ]
  },
  {
   "cell_type": "code",
   "execution_count": 1,
   "metadata": {},
   "outputs": [
    {
     "ename": "NameError",
     "evalue": "name 'dataF' is not defined",
     "output_type": "error",
     "traceback": [
      "\u001b[0;31m---------------------------------------------------------------------------\u001b[0m",
      "\u001b[0;31mNameError\u001b[0m                                 Traceback (most recent call last)",
      "\u001b[0;32m<ipython-input-1-f1f880830ab9>\u001b[0m in \u001b[0;36m<module>\u001b[0;34m\u001b[0m\n\u001b[1;32m      1\u001b[0m \u001b[0;31m#print(dataF)\u001b[0m\u001b[0;34m\u001b[0m\u001b[0;34m\u001b[0m\u001b[0;34m\u001b[0m\u001b[0m\n\u001b[1;32m      2\u001b[0m \u001b[0;31m#len(dataF)\u001b[0m\u001b[0;34m\u001b[0m\u001b[0;34m\u001b[0m\u001b[0;34m\u001b[0m\u001b[0m\n\u001b[0;32m----> 3\u001b[0;31m \u001b[0mprint\u001b[0m\u001b[0;34m(\u001b[0m\u001b[0mdataF\u001b[0m\u001b[0;34m)\u001b[0m\u001b[0;34m\u001b[0m\u001b[0;34m\u001b[0m\u001b[0m\n\u001b[0m",
      "\u001b[0;31mNameError\u001b[0m: name 'dataF' is not defined"
     ]
    }
   ],
   "source": [
    "#print(dataF)\n",
    "#len(dataF)\n",
    "print(dataF)"
   ]
  },
  {
   "cell_type": "code",
   "execution_count": 18,
   "metadata": {},
   "outputs": [],
   "source": [
    "Species = dataF['Species'].values[:]"
   ]
  },
  {
   "cell_type": "code",
   "execution_count": 19,
   "metadata": {},
   "outputs": [],
   "source": [
    "#Species"
   ]
  },
  {
   "cell_type": "code",
   "execution_count": 20,
   "metadata": {},
   "outputs": [],
   "source": [
    "def mapping(x):\n",
    "    if(x == 'Iris-virginica'):\n",
    "        return 1\n",
    "    else:\n",
    "        return 0\n",
    "\n",
    "Species1 = list(map(mapping, Species)) \n",
    "#print(Species1) "
   ]
  },
  {
   "cell_type": "code",
   "execution_count": 21,
   "metadata": {},
   "outputs": [],
   "source": [
    "#Sapel = dataF.values[:][:]\n",
    "#Sapel\n",
    "Sapel = dataF.loc[:,['Sapel_length','Sapel_width']] #df.loc[row_indexer,column_indexer]\n",
    "#Sapel\n",
    "Sapel['bias'] = [1.0]*len(Sapel)\n",
    "#bias = pd.DataFrame({'bias': [1.0]*len(Sapel)})\n",
    "#Sapel.append(bias,sort=False)\n",
    "#Sapel"
   ]
  },
  {
   "cell_type": "code",
   "execution_count": 22,
   "metadata": {},
   "outputs": [
    {
     "data": {
      "text/plain": [
       "105"
      ]
     },
     "execution_count": 22,
     "metadata": {},
     "output_type": "execute_result"
    }
   ],
   "source": [
    "sampleLength = len(Sapel)*0.7 #70% of iris data is train\n",
    "\n",
    "trainSapel = Sapel[0:int(sampleLength)]\n",
    "trainSpecies = Species1[0:int(sampleLength)]\n",
    "trainSpecies\n",
    "len(trainSpecies)\n",
    "#train = Sapel.head(int(trainingNum))\n",
    "#train\n",
    "#len(train)"
   ]
  },
  {
   "cell_type": "code",
   "execution_count": 23,
   "metadata": {},
   "outputs": [
    {
     "data": {
      "text/plain": [
       "45"
      ]
     },
     "execution_count": 23,
     "metadata": {},
     "output_type": "execute_result"
    }
   ],
   "source": [
    "testSapel = Sapel[int(sampleLength):]\n",
    "testSpecies = Species1[int(sampleLength):]\n",
    "testSpecies\n",
    "len(testSpecies)\n",
    "#test\n",
    "#len(test)"
   ]
  },
  {
   "cell_type": "code",
   "execution_count": 24,
   "metadata": {},
   "outputs": [],
   "source": [
    "import numpy as np\n",
    "\n",
    "# importing the required module \n",
    "import matplotlib.pyplot as plt "
   ]
  },
  {
   "cell_type": "code",
   "execution_count": 25,
   "metadata": {},
   "outputs": [],
   "source": [
    "def sig(x,theta):\n",
    "\n",
    "    y = np.dot(theta,x.transpose())\n",
    "    sigmoid = 1/(1+np.exp(-y))\n",
    "    \n",
    "    return sigmoid\n",
    "    "
   ]
  },
  {
   "cell_type": "code",
   "execution_count": 26,
   "metadata": {
    "scrolled": true
   },
   "outputs": [],
   "source": [
    "def gradient(x,t,theta): #formula = x(transpose) [t-sigmoid(x,theta)]\n",
    "#x = trainSapel\n",
    "#t = trainSpecies\n",
    "#theta = [0,0,0]\n",
    "    sigmoid = (sig(x,theta))\n",
    "\n",
    "    #l = np.array(t) - sigmoid #.transpose()?\n",
    "    l = -np.array(t) + sigmoid \n",
    "    grad = np.dot(x.transpose(),l)\n",
    "    return grad"
   ]
  },
  {
   "cell_type": "code",
   "execution_count": 27,
   "metadata": {},
   "outputs": [],
   "source": [
    "def sgd_linear_regression(theta,learningRate,grad):\n",
    "    #new_theta = theta + learningRate*grad\n",
    "    new_theta = np.subtract(theta,np.multiply(learningRate,grad))\n",
    "    #new_theta = np.add(theta,np.multiply(learningRate,grad))\n",
    "    return new_theta"
   ]
  },
  {
   "cell_type": "code",
   "execution_count": null,
   "metadata": {},
   "outputs": [],
   "source": []
  },
  {
   "cell_type": "code",
   "execution_count": 28,
   "metadata": {},
   "outputs": [],
   "source": [
    "def log_likelihood(data_train,target_train,theta):\n",
    "    m = data_train.shape[0]\n",
    "    \n",
    "    l1=np.dot(target_train,np.log(sig(data_train,theta)))\n",
    "    \n",
    "    sub1 = np.subtract(1,target_train)\n",
    "    sub3 = np.subtract(1,sig(data_train,theta))\n",
    "    \n",
    "    try:\n",
    "        sub2 = np.log(sub3)\n",
    "        l2 = np.dot(sub1,sub2)\n",
    "        ll=np.add(l1,l2)\n",
    "        \n",
    "        return np.dot((-1/m),ll)\n",
    "    \n",
    "    except e:\n",
    "        print(\"exp\")\n",
    "    "
   ]
  },
  {
   "cell_type": "code",
   "execution_count": 29,
   "metadata": {},
   "outputs": [],
   "source": [
    "def prediction(testSapel,theta):\n",
    "    #x = testSapel   \n",
    "    sigmoid = sig(testSapel,theta)\n",
    "    predict = []\n",
    "    #theta = [5.93867065,-11.26247033,-9.54471196]\n",
    "    #theta = [83.31296819,-36.8153267,-471.88521072]\n",
    "    for eachx in range(0,len(testSapel)):\n",
    "        if(sigmoid[eachx]>0.5):\n",
    "            predict.append(1)\n",
    "        \n",
    "        else:\n",
    "            predict.append(0)\n",
    "            \n",
    "    return predict\n",
    "        \n",
    "#print(prediction)\n",
    "#print(testSpecies)"
   ]
  },
  {
   "cell_type": "code",
   "execution_count": null,
   "metadata": {},
   "outputs": [],
   "source": []
  },
  {
   "cell_type": "code",
   "execution_count": 30,
   "metadata": {},
   "outputs": [],
   "source": [
    "x = trainSapel\n",
    "t = trainSpecies\n",
    "theta = [0,0,0]\n",
    "sigmoid = sig(x,theta)\n",
    "learningRate = 0.003\n",
    "#learningRate = 0.05\n",
    "looping = 5000\n",
    "likelihood = []\n",
    "loop = []\n",
    "for i in range(0,looping):\n",
    "    grad = gradient(x,t,theta)\n",
    "    theta = sgd_linear_regression(theta,learningRate,grad)\n",
    "    loop.append(i)\n",
    "    likelihood.append(log_likelihood(trainSapel,trainSpecies,theta))\n",
    "    #print(grad,theta)\n",
    "    #print(theta)\n",
    "#plt.plot()\n",
    "sigmoid = min(sig(x,theta))\n",
    "#print(sigmoid)\n",
    "#predict = prediction(testSapel,theta)\n",
    "predict = prediction(Sapel,theta)\n",
    "#print(theta)\n",
    "#print(predict)\n",
    "#print(testSpecies)"
   ]
  },
  {
   "cell_type": "code",
   "execution_count": 31,
   "metadata": {},
   "outputs": [
    {
     "data": {
      "image/png": "[encoded data removed]",
      "text/plain": [
       "<Figure size 432x288 with 1 Axes>"
      ]
     },
     "metadata": {
      "needs_background": "light"
     },
     "output_type": "display_data"
    }
   ],
   "source": [
    "#print(len(likelihood))\n",
    "#print(len(loop))\n",
    "#print(np.sort(likelihood))\n",
    "y = np.sort(likelihood)\n",
    "r = y[::-1]\n",
    "plt.plot(loop,r)\n",
    "#it = len(likelihood)\n",
    "\n",
    "#print(it)\n",
    "plt.xlabel('iterations')\n",
    "plt.ylabel('cost')\n",
    "plt.title('Cost vs iterations graph')\n",
    "\n",
    "plt.xlim(-200,len(loop))\n",
    "plt.show()"
   ]
  },
  {
   "cell_type": "code",
   "execution_count": 32,
   "metadata": {},
   "outputs": [],
   "source": [
    "#x.transpose()\n",
    "#grad"
   ]
  },
  {
   "cell_type": "code",
   "execution_count": 33,
   "metadata": {},
   "outputs": [
    {
     "name": "stdout",
     "output_type": "stream",
     "text": [
      "accuracy: 0.7866666666666666\n",
      "error: 0.21333333333333337\n"
     ]
    }
   ],
   "source": [
    "#Uncomment to get accuracy using sklearn\n",
    "#from sklearn.metrics import accuracy_score\n",
    "\n",
    "#accuracy = accuracy_score(Species1,predict)\n",
    "#print(accuracy)\n",
    "\n",
    "#print(Species1,predict)\n",
    "#calculate acc manually\n",
    "false = 0\n",
    "for i in range(0,len(Species1)):\n",
    "    if(Species1[i] != predict[i]):\n",
    "        \n",
    "        false+=1\n",
    "          \n",
    "accuracy1 =(len(Species1) - false)/len(Species1)\n",
    "print(\"accuracy: \" + str(accuracy1))\n",
    "error = 1 - accuracy1\n",
    "print(\"error: \" + str(error))"
   ]
  },
  {
   "cell_type": "code",
   "execution_count": null,
   "metadata": {},
   "outputs": [],
   "source": []
  },
  {
   "cell_type": "code",
   "execution_count": 34,
   "metadata": {},
   "outputs": [
    {
     "data": {
      "image/png": "[encoded data removed]",
      "text/plain": [
       "<Figure size 432x288 with 1 Axes>"
      ]
     },
     "metadata": {
      "needs_background": "light"
     },
     "output_type": "display_data"
    }
   ],
   "source": [
    "#x = np.sort(x)\n",
    "y = np.sort(np.dot(theta,x.transpose()))\n",
    "#print(theta)\n",
    "\n",
    "def sigm(y):\n",
    "    #y = np.dot(theta,x.transpose())\n",
    "    #for i in range(0,len(y)):\n",
    "    sigmoid = 1/(1+np.exp(-y))\n",
    "    return sigmoid\n",
    "  \n",
    "\n",
    "sigmoid = []\n",
    "for i in range(0,len(y)):\n",
    "    sigmoid.append(sigm(y[i]))\n",
    "    \n",
    "#print(min(sigmoid))\n",
    "#print(y,sigmoid)\n",
    "\n",
    "plt.plot(y,sigmoid)\n",
    "plt.xlabel('y=x*theta')\n",
    "plt.ylabel('sigmoid')\n",
    "\n",
    "plt.title('Sigmoid')\n",
    "\n",
    "plt.show()\n",
    "\n"
   ]
  },
  {
   "cell_type": "code",
   "execution_count": null,
   "metadata": {},
   "outputs": [],
   "source": [
    "\n"
   ]
  },
  {
   "cell_type": "code",
   "execution_count": 35,
   "metadata": {},
   "outputs": [],
   "source": [
    "#Species"
   ]
  },
  {
   "cell_type": "code",
   "execution_count": 36,
   "metadata": {},
   "outputs": [
    {
     "name": "stdout",
     "output_type": "stream",
     "text": [
      "50 100\n"
     ]
    },
    {
     "data": {
      "image/png": "[encoded data removed]",
      "text/plain": [
       "<Figure size 432x288 with 1 Axes>"
      ]
     },
     "metadata": {
      "needs_background": "light"
     },
     "output_type": "display_data"
    }
   ],
   "source": [
    "#scatter plot-\n",
    "#print(dataF)\n",
    "x = Sapel.iloc[:,:-1]\n",
    "#print(x)\n",
    "#print(type(x))\n",
    "#y = Species1\n",
    "\n",
    "\n",
    "y = dataF.iloc[:,-1]\n",
    "#y = pd.DataFrame(Species1).iloc[:,0]\n",
    "#print(y)\n",
    "\n",
    "\n",
    "#dataF[:,-1] = list(map(mapping, y))\n",
    "#print(y_f) \n",
    "\n",
    "virginica = x.loc[y == \"Iris-virginica\"]\n",
    "non_virginica = x.loc[y != \"Iris-virginica\"]\n",
    "print(len(virginica),len(non_virginica))\n",
    "\n",
    "plt.scatter(virginica.iloc[:,0], virginica.iloc[:,1],s=15,label='Virginica')\n",
    "plt.scatter(non_virginica.iloc[:,0], non_virginica.iloc[:,1],s=15,label='Non-Virginica')\n",
    "plt.legend()\n",
    "#plt.show()\n",
    "#y = Sapel.iloc[]\n",
    "#len(Sapel)\n",
    "#Sapel\n",
    "\n",
    "x_val = [np.min(x.iloc[:,0]+4),np.max(x.iloc[:,1]-2)]\n",
    "y_val = -(theta[2] + np.dot(theta[0], x_val))/theta[1]\n",
    "plt.plot(x_val, y_val, label = \"Regression graph\")\n",
    "plt.xlabel('Sapel length')\n",
    "plt.ylim(1,6)\n",
    "plt.ylabel('Sapel width')\n",
    "plt.legend()\n",
    "plt.show()\n"
   ]
  },
  {
   "cell_type": "code",
   "execution_count": null,
   "metadata": {},
   "outputs": [],
   "source": []
  },
  {
   "cell_type": "code",
   "execution_count": null,
   "metadata": {},
   "outputs": [],
   "source": [
    "\n"
   ]
  },
  {
   "cell_type": "code",
   "execution_count": null,
   "metadata": {},
   "outputs": [],
   "source": []
  },
  {
   "cell_type": "code",
   "execution_count": null,
   "metadata": {},
   "outputs": [],
   "source": []
  },
  {
   "cell_type": "code",
   "execution_count": null,
   "metadata": {},
   "outputs": [],
   "source": []
  },
  {
   "cell_type": "code",
   "execution_count": null,
   "metadata": {},
   "outputs": [],
   "source": []
  },
  {
   "cell_type": "code",
   "execution_count": null,
   "metadata": {},
   "outputs": [],
   "source": []
  },
  {
   "cell_type": "code",
   "execution_count": null,
   "metadata": {},
   "outputs": [],
   "source": []
  },
  {
   "cell_type": "code",
   "execution_count": null,
   "metadata": {},
   "outputs": [],
   "source": []
  }
 ],
 "metadata": {
  "kernelspec": {
   "display_name": "Python 3",
   "language": "python",
   "name": "python3"
  },
  "language_info": {
   "codemirror_mode": {
    "name": "ipython",
    "version": 3
   },
   "file_extension": ".py",
   "mimetype": "text/x-python",
   "name": "python",
   "nbconvert_exporter": "python",
   "pygments_lexer": "ipython3",
   "version": "3.7.3"
  }
 },
 "nbformat": 4,
 "nbformat_minor": 2
}
